{
 "cells": [
  {
   "cell_type": "code",
   "execution_count": 167,
   "metadata": {},
   "outputs": [],
   "source": [
    "import pandas as pd\n",
    "import numpy as np\n",
    "from datetime import datetime\n",
    "from matplotlib import pyplot as plt\n",
    "import matplotlib.patches as mpatches\n",
    "import seaborn as sns\n",
    "\n",
    "from statsmodels.tsa.stattools import adfuller\n",
    "from statsmodels.tsa.statespace.sarimax import SARIMAX\n",
    "from itertools import product\n",
    "from sklearn.metrics import mean_squared_error\n",
    "\n",
    "import itertools\n",
    "import pickle\n",
    "import random\n",
    "\n",
    "import warnings\n",
    "warnings.simplefilter(action='ignore', category=Warning)"
   ]
  },
  {
   "cell_type": "markdown",
   "metadata": {},
   "source": [
    "## CREDIT LIMIT MODEL"
   ]
  },
  {
   "cell_type": "markdown",
   "metadata": {},
   "source": [
    "### Import dataset"
   ]
  },
  {
   "cell_type": "code",
   "execution_count": 168,
   "metadata": {},
   "outputs": [],
   "source": [
    "df = pd.read_csv('./prediction_model/data_source/data_month_full_T52024_test.csv')\n",
    "df['based_month'] = pd.to_datetime(df['based_month'])"
   ]
  },
  {
   "cell_type": "markdown",
   "metadata": {},
   "source": [
    "### Preprocessing data"
   ]
  },
  {
   "cell_type": "code",
   "execution_count": 169,
   "metadata": {},
   "outputs": [],
   "source": [
    "# Detect các case không phát sinh rev tại bất kì tháng nào\n",
    "group_ret = df.groupby('retailer_id')['gmv'].sum()\n",
    "group_ret[group_ret == 0]\n",
    "\n",
    "# Loại bỏ các case trên\n",
    "df = pd.merge(df, group_ret, left_on = 'retailer_id', right_on='retailer_id')\n",
    "df = df[df['gmv_y'] != 0]\n",
    "# df = df.set_index(['based_month'])\n",
    "df = df.drop(columns=['gmv_y']).rename(columns = {'gmv_x' : 'gmv'})"
   ]
  },
  {
   "cell_type": "code",
   "execution_count": 170,
   "metadata": {},
   "outputs": [
    {
     "data": {
      "text/plain": [
       "retailer_id\n",
       "47056     1.388509e+11\n",
       "114816    9.563299e+10\n",
       "140533    8.372336e+10\n",
       "Name: gmv, dtype: float64"
      ]
     },
     "execution_count": 170,
     "metadata": {},
     "output_type": "execute_result"
    }
   ],
   "source": [
    "group_ret"
   ]
  },
  {
   "cell_type": "code",
   "execution_count": 171,
   "metadata": {},
   "outputs": [],
   "source": [
    "# list_ret = list(df['retailer_id'].unique())\n",
    "# random.seed(42)\n",
    "# random_values = random.sample(list_ret,1)\n",
    "# list_ret_0_10 = random_values[0:1]\n",
    "\n",
    "# df_test = df[df['retailer_id'] == 4119]"
   ]
  },
  {
   "cell_type": "markdown",
   "metadata": {},
   "source": [
    "### Checking stationary"
   ]
  },
  {
   "cell_type": "code",
   "execution_count": 172,
   "metadata": {},
   "outputs": [],
   "source": [
    "# Create function to find optimal differencing with lowest p-value with ADFuller test stationary\n",
    "def checking_stationary(df, diff):\n",
    "    best_diff = None\n",
    "    min_pvalue = float('inf')\n",
    "    for i in range(diff, diff + 3):\n",
    "        diff_df = df['gmv'] - df['gmv'].shift(i)\n",
    "        res = adfuller(diff_df.dropna())\n",
    "        p_value = res[1]\n",
    "        if p_value < min_pvalue:\n",
    "            min_pvalue = p_value\n",
    "            best_diff = i\n",
    "    return best_diff, min_pvalue"
   ]
  },
  {
   "cell_type": "markdown",
   "metadata": {},
   "source": [
    "### Storing best params"
   ]
  },
  {
   "cell_type": "code",
   "execution_count": 173,
   "metadata": {},
   "outputs": [
    {
     "name": "stdout",
     "output_type": "stream",
     "text": [
      "Finish finding the best param for 47056\n",
      "Finish finding the best param for 114816\n",
      "Finish finding the best param for 140533\n"
     ]
    }
   ],
   "source": [
    "# Function to train SARIMAX model and find the best parameters using mean squared error\n",
    "def find_best_params(customer_data, periods, param_grid):\n",
    "    best_params = {}\n",
    "\n",
    "    for period in periods:\n",
    "        # Define differencing value\n",
    "        diff = checking_stationary(customer_data, period)[0]\n",
    "        # Convert data to be stationary\n",
    "        shift_data = customer_data['gmv'] - customer_data['gmv'].shift(diff)\n",
    "        shift_data = shift_data.dropna()\n",
    "\n",
    "        best_mse = np.inf\n",
    "        best_param = None\n",
    "\n",
    "        train_size = len(shift_data) - period\n",
    "        train, test = shift_data[:train_size], shift_data[train_size:]\n",
    "\n",
    "        for param in param_grid:\n",
    "            order, seasonal_order = param\n",
    "            try:\n",
    "                model = SARIMAX(train, order=order, seasonal_order=seasonal_order, enforce_stationarity=False)\n",
    "                results = model.fit(disp=False)\n",
    "                forecast = results.forecast(steps=period)\n",
    "                mse = mean_squared_error(test, forecast)\n",
    "                if mse < best_mse:\n",
    "                    best_mse = mse\n",
    "                    best_param = param\n",
    "            except:\n",
    "                continue\n",
    "        best_params[period] = best_param\n",
    "    return best_params\n",
    "\n",
    "# Define the parameter grid for SARIMAX\n",
    "p = range(1, 4)  \n",
    "d = range(0, 2)  \n",
    "q = range(1, 4)  \n",
    "P = range(1, 4)  \n",
    "D = range(0, 2)  \n",
    "Q = range(1, 4)  \n",
    "s = [6, 9, 12]\n",
    "\n",
    "param_grid = list(itertools.product(itertools.product(p, d, q), itertools.product(P, D, Q, s)))\n",
    "\n",
    "# Define periods for prediction\n",
    "periods = [1, 3, 6, 12]\n",
    "\n",
    "# Dictionary to store best parameters for each customer\n",
    "customer_best_params = {}\n",
    "\n",
    "# Find and save best parameters for each customer\n",
    "for customer_id, customer_data in df.groupby('retailer_id'):\n",
    "    best_params = find_best_params(customer_data, periods, param_grid)\n",
    "    customer_best_params[customer_id] = best_params\n",
    "    print(f'Finish finding the best param for {customer_id}')\n",
    "\n",
    "# Save the best parameters to a pickle file\n",
    "with open('D:/Project/KLending/New_Lending/ARIMA_model/best_param/best_params.pkl', 'wb') as f:\n",
    "    pickle.dump(customer_best_params, f)\n",
    "\n",
    "# Function to load best parameters from pickle file\n",
    "def load_best_params(pickle_file):\n",
    "    with open(pickle_file, 'rb') as f:\n",
    "        return pickle.load(f)\n",
    "\n",
    "# Load the best parameters\n",
    "loaded_params = load_best_params('D:/Project/KLending/New_Lending/ARIMA_model/best_param/best_params.pkl')"
   ]
  },
  {
   "cell_type": "code",
   "execution_count": 175,
   "metadata": {},
   "outputs": [
    {
     "data": {
      "text/plain": [
       "{47056: {1: ((2, 0, 3), (2, 0, 2, 6)),\n",
       "  3: ((1, 0, 1), (1, 0, 1, 9)),\n",
       "  6: ((3, 0, 1), (1, 0, 1, 6)),\n",
       "  12: None},\n",
       " 114816: {1: ((1, 0, 2), (2, 0, 2, 12)),\n",
       "  3: ((2, 0, 1), (2, 0, 2, 6)),\n",
       "  6: ((1, 1, 1), (1, 0, 1, 6)),\n",
       "  12: ((1, 0, 1), (1, 1, 1, 6))},\n",
       " 140533: {1: ((1, 1, 1), (3, 0, 3, 6)),\n",
       "  3: ((1, 0, 1), (1, 1, 3, 6)),\n",
       "  6: ((1, 0, 3), (1, 0, 1, 6)),\n",
       "  12: ((1, 0, 2), (1, 0, 1, 6))}}"
      ]
     },
     "execution_count": 175,
     "metadata": {},
     "output_type": "execute_result"
    }
   ],
   "source": [
    "customer_best_params"
   ]
  },
  {
   "cell_type": "code",
   "execution_count": 174,
   "metadata": {},
   "outputs": [
    {
     "data": {
      "text/plain": [
       "{47056: {1: ((2, 0, 3), (2, 0, 2, 6)),\n",
       "  3: ((1, 0, 1), (1, 0, 1, 9)),\n",
       "  6: ((3, 0, 1), (1, 0, 1, 6)),\n",
       "  12: None},\n",
       " 114816: {1: ((1, 0, 2), (2, 0, 2, 12)),\n",
       "  3: ((2, 0, 1), (2, 0, 2, 6)),\n",
       "  6: ((1, 1, 1), (1, 0, 1, 6)),\n",
       "  12: ((1, 0, 1), (1, 1, 1, 6))},\n",
       " 140533: {1: ((1, 1, 1), (3, 0, 3, 6)),\n",
       "  3: ((1, 0, 1), (1, 1, 3, 6)),\n",
       "  6: ((1, 0, 3), (1, 0, 1, 6)),\n",
       "  12: ((1, 0, 2), (1, 0, 1, 6))}}"
      ]
     },
     "execution_count": 174,
     "metadata": {},
     "output_type": "execute_result"
    }
   ],
   "source": [
    "load_best_params('D:/Project/KLending/New_Lending/ARIMA_model/best_param/best_params.pkl')"
   ]
  },
  {
   "cell_type": "markdown",
   "metadata": {},
   "source": [
    "### SARIMAX model function"
   ]
  },
  {
   "cell_type": "code",
   "execution_count": 146,
   "metadata": {},
   "outputs": [],
   "source": [
    "def sarimax_model(retailer_id, best_params, data):\n",
    "    customer_data = data[data['retailer_id'] == retailer_id]\n",
    "    sum_predictions = {} # Save predicted output of 1, 3, 6, 12 months\n",
    "    for period, param in best_params.items():\n",
    "        # Making data to be stationary\n",
    "        diff = checking_stationary(customer_data, period)[0]\n",
    "        shift_df = customer_data['gmv'] - customer_data['gmv'].shift(diff)\n",
    "        shift_df = shift_df.dropna()\n",
    "\n",
    "        try:\n",
    "            # define order and seasonal order\n",
    "            order, seasonal_order = param\n",
    "            #Run model\n",
    "            model = SARIMAX(shift_df, order=order, seasonal_order=seasonal_order, enforce_stationarity=False)\n",
    "            results = model.fit(disp=False)\n",
    "            prediction = results.forecast(steps=period) # thực hiện predict revenue in next X month\n",
    "            forecast_origin = prediction + pd.Series(customer_data['gmv'][-diff:][:period].values, index = prediction.index)  # convert value back to original value\n",
    "            sum_predictions[f'forecast_gmv_{period}_month'] = forecast_origin.apply(lambda x: 0 if x < 0 else x).sum() # Nếu kết quả predict ra revenue âm thì replace = 0\n",
    "        except TypeError as error:\n",
    "            print(f\"The revenue for retailer_id: {retailer_id} cannot be predicted for the next {period} months.\")\n",
    "            continue\n",
    "\n",
    "    #Create Dataframe contains predicted output of 1, 3, 6, 12 months\n",
    "    results_df = pd.DataFrame(sum_predictions.items()).T \n",
    "    results_df.columns = results_df.iloc[0]\n",
    "    results_df = results_df[1:]\n",
    "    results_df['retailer_id'] = retailer_id\n",
    "\n",
    "    return results_df"
   ]
  },
  {
   "cell_type": "markdown",
   "metadata": {},
   "source": [
    "### Running all merchants"
   ]
  },
  {
   "cell_type": "code",
   "execution_count": 147,
   "metadata": {},
   "outputs": [
    {
     "name": "stdout",
     "output_type": "stream",
     "text": [
      "The revenue for retailer_id: 47056 cannot be predicted for the next 12 months.\n",
      "Finish retailer_id 47056\n",
      "Finish retailer_id 114816\n",
      "Finish retailer_id 140533\n"
     ]
    }
   ],
   "source": [
    "forecast_rev = pd.DataFrame()\n",
    "for retailer_id, best_param in loaded_params.items():    \n",
    "    try:\n",
    "        ret_df = sarimax_model(retailer_id, best_param, df)\n",
    "        forecast_rev = pd.concat([forecast_rev, ret_df], ignore_index = False)\n",
    "        print(\"Finish retailer_id {}\".format(retailer_id))\n",
    "    except ValueError as error:\n",
    "        print(\"ValueError occurred for retailer_id {}: {}\".format(retailer_id, error))\n",
    "        continue"
   ]
  },
  {
   "cell_type": "code",
   "execution_count": 148,
   "metadata": {},
   "outputs": [
    {
     "data": {
      "text/html": [
       "<div>\n",
       "<style scoped>\n",
       "    .dataframe tbody tr th:only-of-type {\n",
       "        vertical-align: middle;\n",
       "    }\n",
       "\n",
       "    .dataframe tbody tr th {\n",
       "        vertical-align: top;\n",
       "    }\n",
       "\n",
       "    .dataframe thead th {\n",
       "        text-align: right;\n",
       "    }\n",
       "</style>\n",
       "<table border=\"1\" class=\"dataframe\">\n",
       "  <thead>\n",
       "    <tr style=\"text-align: right;\">\n",
       "      <th></th>\n",
       "      <th>forecast_gmv_1_month</th>\n",
       "      <th>forecast_gmv_3_month</th>\n",
       "      <th>forecast_gmv_6_month</th>\n",
       "      <th>retailer_id</th>\n",
       "      <th>forecast_gmv_12_month</th>\n",
       "    </tr>\n",
       "  </thead>\n",
       "  <tbody>\n",
       "    <tr>\n",
       "      <th>1</th>\n",
       "      <td>0.0</td>\n",
       "      <td>12555332055.872406</td>\n",
       "      <td>90395636729.119949</td>\n",
       "      <td>47056</td>\n",
       "      <td>NaN</td>\n",
       "    </tr>\n",
       "    <tr>\n",
       "      <th>1</th>\n",
       "      <td>4309143778.40907</td>\n",
       "      <td>19475310915.66555</td>\n",
       "      <td>24199180100.811882</td>\n",
       "      <td>114816</td>\n",
       "      <td>51152949082.359856</td>\n",
       "    </tr>\n",
       "    <tr>\n",
       "      <th>1</th>\n",
       "      <td>2033195558.707653</td>\n",
       "      <td>9125768781.98715</td>\n",
       "      <td>18340315152.239944</td>\n",
       "      <td>140533</td>\n",
       "      <td>32519846636.412407</td>\n",
       "    </tr>\n",
       "  </tbody>\n",
       "</table>\n",
       "</div>"
      ],
      "text/plain": [
       "0 forecast_gmv_1_month forecast_gmv_3_month forecast_gmv_6_month  retailer_id  \\\n",
       "1                  0.0   12555332055.872406   90395636729.119949        47056   \n",
       "1     4309143778.40907    19475310915.66555   24199180100.811882       114816   \n",
       "1    2033195558.707653     9125768781.98715   18340315152.239944       140533   \n",
       "\n",
       "0 forecast_gmv_12_month  \n",
       "1                   NaN  \n",
       "1    51152949082.359856  \n",
       "1    32519846636.412407  "
      ]
     },
     "execution_count": 148,
     "metadata": {},
     "output_type": "execute_result"
    }
   ],
   "source": [
    "forecast_rev"
   ]
  },
  {
   "cell_type": "markdown",
   "metadata": {},
   "source": [
    "## RELIABILITY SCORING MODEL"
   ]
  },
  {
   "cell_type": "markdown",
   "metadata": {},
   "source": [
    "### Import dataset"
   ]
  },
  {
   "cell_type": "code",
   "execution_count": 162,
   "metadata": {},
   "outputs": [],
   "source": [
    "bus_data = pd.read_csv('C:/Users/hung.vv1/Desktop/streamlit_new_lending/hung_test/data_source/backtest/T5_2024/reliability_business_metrics.csv')\n",
    "usage_data = pd.read_csv('C:/Users/hung.vv1/Desktop/streamlit_new_lending/hung_test/data_source/backtest/T5_2024/reliability_usage_metrics.csv')\n",
    "gr_rev_inv_3_6_12 = pd.read_csv('C:/Users/hung.vv1/Desktop/streamlit_new_lending/hung_test/data_source/backtest/T5_2024/growth_rate_rev_inv_3_6_12.csv')\n",
    "gr_pur_3_6_12 = pd.read_csv('C:/Users/hung.vv1/Desktop/streamlit_new_lending/hung_test/data_source/backtest/T5_2024/growth_rate_pur_3_6_12.csv')"
   ]
  },
  {
   "cell_type": "markdown",
   "metadata": {},
   "source": [
    "### Preprocessing data"
   ]
  },
  {
   "cell_type": "code",
   "execution_count": 163,
   "metadata": {},
   "outputs": [],
   "source": [
    "# Tạo dataset chỉ số kinh doanh\n",
    "# Combine các bảng dataset chỉ số kinh doanh\n",
    "df_list = [forecast_rev, gr_rev_inv_3_6_12, gr_pur_3_6_12]\n",
    "\n",
    "df_combine = df_list[0]\n",
    "for df_ in df_list[1:]:\n",
    "    df_combine = df_combine.merge(df_, how='left', on='retailer_id')\n",
    "\n",
    "fin_data = df_combine\n"
   ]
  },
  {
   "cell_type": "code",
   "execution_count": 164,
   "metadata": {},
   "outputs": [],
   "source": [
    "# Label gói hợp đồng phần mềm và fillna data hành vi sử dụng KV\n",
    "usage_data['goi_HDPM_cuoi_cung'] = usage_data['goi_HDPM_cuoi_cung'].replace(['Other','Hỗ trợ','Chuyên nghiệp', 'Cao cấp'],\n",
    "                                                                            [0,0,1,2])\n",
    "usage_data = usage_data.fillna(0)"
   ]
  },
  {
   "cell_type": "code",
   "execution_count": 165,
   "metadata": {},
   "outputs": [],
   "source": [
    "# Combine các bảng dataset \n",
    "df_list_2 = [forecast_rev[['retailer_id']], bus_data, usage_data, fin_data]\n",
    "\n",
    "all_data = df_list_2[0]\n",
    "for df_ in df_list_2[1:]:\n",
    "    all_data = all_data.merge(df_, how='left', on='retailer_id')\n",
    "\n",
    "all_data = all_data.fillna(0)\n"
   ]
  },
  {
   "cell_type": "markdown",
   "metadata": {},
   "source": [
    "### Detect & remove outliers"
   ]
  },
  {
   "cell_type": "code",
   "execution_count": 166,
   "metadata": {},
   "outputs": [],
   "source": [
    "# Replace all values > quantile 0.8 equal to quantile 0.75\n",
    "final_data = all_data.copy()\n",
    "\n",
    "def iqr(df):\n",
    "    for col in df.columns[df.columns.isin(['cnt_product', 'avg_new_product',\n",
    "       'avg_saled_product_per_day', 'avg_comeback_customer',\n",
    "       'avg_rate_comeback_customer', 'avg_new_cus_per_month',\n",
    "       'avg_customer_per_month', 'no_suppliers','thoihan','gr_rev_l3m', 'gr_rev_l6m', 'gr_rev_l12m',\n",
    "       'gr_inv_l3m', 'gr_inv_l6m', 'gr_inv_l12m','gr_pur_l3m', 'gr_pur_l6m', 'gr_pur_l12m'])]:\n",
    "        if df[col].dtype != object:\n",
    "            Q1 = df[col].quantile(0.25)\n",
    "            Q3 = df[col].quantile(0.75)\n",
    "            IQR = Q3 - Q1\n",
    "            S = 1.5 * IQR\n",
    "            LB = Q1 - S\n",
    "            UB = Q3 + S\n",
    "            df.loc[df[col] > UB,col] = UB\n",
    "            # df.loc[df[col] < LB,col] = LB\n",
    "        else:\n",
    "            break\n",
    "    return df\n",
    "detect_data_1 = iqr(final_data)"
   ]
  },
  {
   "cell_type": "code",
   "execution_count": 167,
   "metadata": {},
   "outputs": [],
   "source": [
    "# Replace các numerical features có quá nhiều giá trị 0 về thành dạng Yes(1) or No(0)\n",
    "def categ_outlier(df):\n",
    "    for col in df.columns[df.columns.isin(['total_active_employee','cashflow_signal','pricebook_signal','stocktake_signal','number_of_ticket'])]:\n",
    "        df.loc[df[col] > 0, col] = 1\n",
    "    return df\n",
    "\n",
    "detect_data_2 = categ_outlier(detect_data_1)"
   ]
  },
  {
   "cell_type": "markdown",
   "metadata": {},
   "source": [
    "### Feature scaling"
   ]
  },
  {
   "cell_type": "code",
   "execution_count": 170,
   "metadata": {},
   "outputs": [],
   "source": [
    "#Scaling down the data \n",
    "# demonstrate data standardization with sklearn\n",
    "\n",
    "fs_final_data = detect_data_2\n",
    "\n",
    "from sklearn.preprocessing import MinMaxScaler\n",
    "min_max_scaler = MinMaxScaler()\n",
    "scaler_col = fs_final_data.columns[(fs_final_data.columns != 'retailer_id')]\n",
    "fs_final_data[scaler_col] = min_max_scaler.fit_transform(fs_final_data[scaler_col])"
   ]
  },
  {
   "cell_type": "markdown",
   "metadata": {},
   "source": [
    "### Weight of features"
   ]
  },
  {
   "cell_type": "code",
   "execution_count": 171,
   "metadata": {},
   "outputs": [],
   "source": [
    "# Chỉ số hoạt động - 10%\n",
    "  # Khách hàng - 40%\n",
    "avg_customer_per_month_rate = 0.4 * 0.4\n",
    "avg_comeback_customer_rate = 0.4 * 0.4\n",
    "avg_rate_comeback_customer_rate = 0.4 * 0.1\n",
    "avg_new_cus_per_month_rate = 0.4 * 0.1\n",
    "  # Sản phẩm - 35%\n",
    "avg_saled_product_per_day_rate = 0.35 * 0.4\n",
    "cnt_product_rate = 0.35 * 0.4\n",
    "avg_new_product_rate = 0.35 * 0.2\n",
    "  # NCC - 15%\n",
    "no_suppliers_rate = 0.15\n",
    "  # Employee - 10%\n",
    "total_active_employee_rate = 0.1\n",
    "\n",
    "#-------------------------------------------------------------------\n",
    "\n",
    "# Hành vi sử dụng - 40%\n",
    "  # Số lượng module - 30%\n",
    "invoice_module_rate = 0.3 * 0.4\n",
    "product_module_rate = 0.3 * 0.2\n",
    "stocktake_module_rate = 0.3 * 0.2\n",
    "customer_module_rate = 0.3 * 0.1\n",
    "addon_module_rate = 0.3 * 0.05\n",
    "KVemployee_module_rate = 0.5 * 0.3 * 0.05\n",
    "  # Tần suất sử dụng KV - 45%\n",
    "invoice_signal_rate = 0.45 * 0.5\n",
    "product_signal_rate = 0.45 * 0.2\n",
    "purchase_order_signal_rate = 0.45 * 0.1\n",
    "cashflow_signal_rate = 0.45 * 0.1\n",
    "pricebook_signal_rate = 0.45 * 0.05\n",
    "stocktake_signal_rate = 0.45 * 0.05\n",
    "  # Thời gian sử dụng KV - 15%\n",
    "time_usage_rate = 0.15 * 0.1\n",
    "lifespan_usage_rate = 0.15 * 0.1\n",
    "loadpage_signal_rate = 0.15 * 0.4\n",
    "inapp_signal_rate = 0.15 * 0.4\n",
    "  # Hợp đồng & Tái kí - 5%\n",
    "renewal_times_rate = 0.05 * 0.5\n",
    "goi_HDPM_cuoi_cung_rate = 0.05 * 0.25\n",
    "thoihan_rate = 0.05 * 0.25\n",
    "  # Tương tác giữa KH và KV - 5%\n",
    "ticket_rate = 0.05\n",
    "\n",
    "#-------------------------------------------------------------------\n",
    "\n",
    "# Chỉ số kinh doanh - 50%\n",
    "  # Biến động doanh thu - 70%\n",
    "pct_rev_l3m_rate = 0.7 * 0.5\n",
    "pct_rev_l6m_rate = 0.7 * 0.4\n",
    "pct_rev_l12m_rate = 0.7 * 0.1\n",
    "  # Biến động invoice - 15%\n",
    "pct_inv_l3m_rate = 0.15 * 0.5\n",
    "pct_inv_l6m_rate = 0.15 * 0.4\n",
    "pct_inv_l12m_rate = 0.15 * 0.1\n",
    "  # Biến động purchase - 15%\n",
    "pct_pur_l3m_rate = 0.15 * 0.5\n",
    "pct_pur_l6m_rate = 0.15 * 0.4\n",
    "pct_pur_l12m_rate = 0.15 * 0.1"
   ]
  },
  {
   "cell_type": "markdown",
   "metadata": {},
   "source": [
    "### Calculating reliability score"
   ]
  },
  {
   "cell_type": "code",
   "execution_count": 172,
   "metadata": {},
   "outputs": [],
   "source": [
    "fs_final_data['business_score'] = fs_final_data['cnt_product'] * cnt_product_rate + \\\n",
    "                                fs_final_data['avg_new_product'] * avg_new_product_rate + \\\n",
    "                                fs_final_data['avg_saled_product_per_day'] * avg_saled_product_per_day_rate + \\\n",
    "                                fs_final_data['avg_comeback_customer'] * avg_comeback_customer_rate + \\\n",
    "                                fs_final_data['avg_rate_comeback_customer'] * avg_rate_comeback_customer_rate + \\\n",
    "                                fs_final_data['avg_new_cus_per_month'] * avg_new_cus_per_month_rate + \\\n",
    "                                fs_final_data['avg_customer_per_month'] * avg_customer_per_month_rate + \\\n",
    "                                fs_final_data['no_suppliers'] * no_suppliers_rate + \\\n",
    "                                fs_final_data['total_active_employee'] * total_active_employee_rate "
   ]
  },
  {
   "cell_type": "code",
   "execution_count": 173,
   "metadata": {},
   "outputs": [],
   "source": [
    "fs_final_data['usage_score'] = fs_final_data['invoice_module'] * invoice_module_rate + \\\n",
    "                                fs_final_data['product_module'] * product_module_rate + \\\n",
    "                                fs_final_data['stocktake_module'] * stocktake_module_rate + \\\n",
    "                                fs_final_data['customer_module'] * customer_module_rate + \\\n",
    "                                fs_final_data['addon_module'] * addon_module_rate + \\\n",
    "                                fs_final_data['is_KVemployee'] * KVemployee_module_rate + \\\n",
    "                                fs_final_data['invoice_signal'] * invoice_signal_rate + \\\n",
    "                                fs_final_data['purchase_order_signal'] * purchase_order_signal_rate + \\\n",
    "                                fs_final_data['product_signal'] * product_signal_rate + \\\n",
    "                                fs_final_data['cashflow_signal'] * cashflow_signal_rate + \\\n",
    "                                fs_final_data['pricebook_signal'] * pricebook_signal_rate + \\\n",
    "                                fs_final_data['stocktake_signal'] * stocktake_signal_rate + \\\n",
    "                                fs_final_data['time_usage'] * time_usage_rate + \\\n",
    "                                fs_final_data['lifespan_usage'] * lifespan_usage_rate + \\\n",
    "                                fs_final_data['loadpage_signal'] * loadpage_signal_rate + \\\n",
    "                                fs_final_data['inapp_signal'] * inapp_signal_rate + \\\n",
    "                                fs_final_data['renewal_times'] * renewal_times_rate + \\\n",
    "                                fs_final_data['goi_HDPM_cuoi_cung'] * goi_HDPM_cuoi_cung_rate + \\\n",
    "                                fs_final_data['thoihan'] * thoihan_rate + \\\n",
    "                                fs_final_data['number_of_ticket'] * ticket_rate"
   ]
  },
  {
   "cell_type": "code",
   "execution_count": 174,
   "metadata": {},
   "outputs": [],
   "source": [
    "fs_final_data['finance_score'] = fs_final_data['gr_rev_l3m'] * pct_rev_l3m_rate + \\\n",
    "                                fs_final_data['gr_rev_l6m'] * pct_rev_l6m_rate + \\\n",
    "                                fs_final_data['gr_rev_l12m'] * pct_rev_l12m_rate + \\\n",
    "                                fs_final_data['gr_inv_l3m'] * pct_inv_l3m_rate + \\\n",
    "                                fs_final_data['gr_inv_l6m'] * pct_inv_l6m_rate + \\\n",
    "                                fs_final_data['gr_inv_l12m'] * pct_inv_l12m_rate + \\\n",
    "                                fs_final_data['gr_pur_l3m'] * pct_pur_l3m_rate + \\\n",
    "                                fs_final_data['gr_pur_l6m'] * pct_pur_l6m_rate + \\\n",
    "                                fs_final_data['gr_pur_l12m'] * pct_pur_l12m_rate"
   ]
  },
  {
   "cell_type": "code",
   "execution_count": null,
   "metadata": {},
   "outputs": [],
   "source": [
    "# labeling 1-5 each features\n",
    "fs_final_data['business_quantile'] = pd.qcut(fs_final_data['business_score'], q=5, labels=[1, 2, 3, 4, 5]).astype(int)\n",
    "fs_final_data['usage_quantile'] = pd.qcut(fs_final_data['usage_score'], q=5, labels=[1, 2, 3, 4, 5]).astype(int)\n",
    "fs_final_data['finance_quantile'] = pd.qcut(fs_final_data['finance_score'], q=5, labels=[1, 2, 3, 4, 5]).astype(int)\n",
    "\n",
    "# Calculating reliability score\n",
    "fs_final_data['reliability_score'] = fs_final_data['business_quantile'] * 0.1 + fs_final_data['usage_quantile'] * 0.4 + fs_final_data['finance_quantile'] * 0.5\n",
    "\n",
    "# Convert score to k-star rating\n",
    "condition = [\n",
    "    (fs_final_data['reliability_score'] <= 1) | (fs_final_data['gr_rev_l3m'] <= -0.8) | (fs_final_data['gr_rev_l6m'] <= -0.8),\n",
    "    (fs_final_data['reliability_score'] > 1) & (fs_final_data['reliability_score']  <= 2),\n",
    "    (fs_final_data['reliability_score'] > 2) & (fs_final_data['reliability_score'] <= 3),\n",
    "    (fs_final_data['reliability_score'] > 3) & (fs_final_data['reliability_score'] <= 4),\n",
    "    (fs_final_data['reliability_score'] > 4)\n",
    "]\n",
    "\n",
    "values = [1, 2, 3, 4, 5]\n",
    "fs_final_data['k-star'] = np.select(condition, values)"
   ]
  },
  {
   "cell_type": "markdown",
   "metadata": {},
   "source": [
    "## FINAL LENDING OUTPUT"
   ]
  },
  {
   "cell_type": "code",
   "execution_count": null,
   "metadata": {},
   "outputs": [],
   "source": [
    "final_output = pd.concat(fs_final_data[['retailer_id', 'reliability_score','k-star']], forecast_rev, how = 'left', on = 'retailer_id') "
   ]
  }
 ],
 "metadata": {
  "kernelspec": {
   "display_name": "kfin",
   "language": "python",
   "name": "python3"
  },
  "language_info": {
   "codemirror_mode": {
    "name": "ipython",
    "version": 3
   },
   "file_extension": ".py",
   "mimetype": "text/x-python",
   "name": "python",
   "nbconvert_exporter": "python",
   "pygments_lexer": "ipython3",
   "version": "3.12.3"
  }
 },
 "nbformat": 4,
 "nbformat_minor": 2
}
